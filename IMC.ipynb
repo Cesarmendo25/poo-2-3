{
  "nbformat": 4,
  "nbformat_minor": 0,
  "metadata": {
    "colab": {
      "name": "IMC",
      "provenance": [],
      "include_colab_link": true
    },
    "kernelspec": {
      "name": "python3",
      "display_name": "Python 3"
    },
    "language_info": {
      "name": "python"
    }
  },
  "cells": [
    {
      "cell_type": "markdown",
      "metadata": {
        "id": "view-in-github",
        "colab_type": "text"
      },
      "source": [
        "<a href=\"https://colab.research.google.com/github/Cesarmendo25/poo-2-3/blob/main/IMC.ipynb\" target=\"_parent\"><img src=\"https://colab.research.google.com/assets/colab-badge.svg\" alt=\"Open In Colab\"/></a>"
      ]
    },
    {
      "cell_type": "markdown",
      "source": [
        "# Indice de Masa Corporal\n",
        "# Mendoza Cesar\n"
      ],
      "metadata": {
        "id": "5fNaZLTtoZTC"
      }
    },
    {
      "cell_type": "code",
      "execution_count": 1,
      "metadata": {
        "colab": {
          "base_uri": "https://localhost:8080/"
        },
        "id": "aT8q8TERoU_7",
        "outputId": "ca6d1560-3015-4a19-a5bc-54fd53604029"
      },
      "outputs": [
        {
          "output_type": "stream",
          "name": "stdout",
          "text": [
            "15.0\n"
          ]
        }
      ],
      "source": [
        "#@title Texto de título predeterminado { run: \"auto\" }\n",
        "Peso = 15 #@param {type:\"number\"}\n",
        "Talla = 175 #@param {type:\"integer\"}\n",
        "imc=Peso/Talla*Talla\n",
        "print(imc)"
      ]
    },
    {
      "cell_type": "markdown",
      "source": [],
      "metadata": {
        "id": "4apEqEvjoWdA"
      }
    }
  ]
}